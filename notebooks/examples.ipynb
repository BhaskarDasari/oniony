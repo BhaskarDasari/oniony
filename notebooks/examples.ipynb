{
 "cells": [
  {
   "cell_type": "code",
   "execution_count": 1,
   "metadata": {},
   "outputs": [],
   "source": [
    "from pyspark.sql import SparkSession\n",
    "\n",
    "import os\n",
    "from pyspark.sql.functions import udf\n",
    "\n",
    "spark = SparkSession \\\n",
    "    .builder \\\n",
    "    .appName(\"ipanon\") \\\n",
    "    .getOrCreate()\n",
    "\n",
    "sc = spark.sparkContext"
   ]
  },
  {
   "cell_type": "markdown",
   "metadata": {},
   "source": [
    "## `hostname` anonymization"
   ]
  },
  {
   "cell_type": "code",
   "execution_count": 2,
   "metadata": {},
   "outputs": [],
   "source": [
    "from faker import Faker\n",
    "from pyspark.sql import Row\n",
    "\n",
    "R = Row('content')\n",
    "\n",
    "faker = Faker()\n",
    "\n",
    "hostnames = [R(faker.hostname()) for i in range(100)]\n",
    "df = spark.createDataFrame(hostnames)"
   ]
  },
  {
   "cell_type": "code",
   "execution_count": 3,
   "metadata": {},
   "outputs": [
    {
     "name": "stdout",
     "output_type": "stream",
     "text": [
      "+--------------------+\n",
      "|             content|\n",
      "+--------------------+\n",
      "|laptop-03.stephen...|\n",
      "|  srv-66.flowers.com|\n",
      "|   srv-84.evans.info|\n",
      "|srv-55.cannon-mit...|\n",
      "|     lt-22.colon.com|\n",
      "|desktop-83.king-h...|\n",
      "| srv-43.mendoza.info|\n",
      "|   web-80.brooks.com|\n",
      "|db-05.jacobs-hans...|\n",
      "|    web-06.tyler.net|\n",
      "| lt-60.rodriguez.com|\n",
      "|    web-33.lucas.biz|\n",
      "|   email-43.king.biz|\n",
      "|desktop-38.christ...|\n",
      "|desktop-00.wilkin...|\n",
      "| email-41.parker.com|\n",
      "|web-24.hernandez.org|\n",
      "| laptop-35.munoz.com|\n",
      "| web-11.sherman.info|\n",
      "|web-22.paul-clark...|\n",
      "+--------------------+\n",
      "only showing top 20 rows\n",
      "\n"
     ]
    }
   ],
   "source": [
    "df.show()"
   ]
  },
  {
   "cell_type": "code",
   "execution_count": 4,
   "metadata": {},
   "outputs": [],
   "source": [
    "from oniony.hostname import Hostname\n",
    "\n",
    "hostname = Hostname(sc, df, 'foo', 'bar', 10)"
   ]
  },
  {
   "cell_type": "code",
   "execution_count": 5,
   "metadata": {},
   "outputs": [
    {
     "name": "stdout",
     "output_type": "stream",
     "text": [
      "+-----------+-----------+\n",
      "|     domain|       host|\n",
      "+-----------+-----------+\n",
      "|[B@28bbf702| [B@5bc5a9c|\n",
      "|[B@12d8e36e| [B@a3064d7|\n",
      "|[B@7d448174|[B@1acb5cfa|\n",
      "|[B@4f5d1f5e|[B@46c2ccbe|\n",
      "|[B@1fd4aa33|[B@5f3809bf|\n",
      "|[B@78b85ae9|[B@284fde7c|\n",
      "|[B@12707c74| [B@d1afa74|\n",
      "|[B@374f862c|[B@61250287|\n",
      "|[B@7027510b|[B@2a34cc21|\n",
      "|[B@610141ad|[B@28f95630|\n",
      "|[B@621cf52d|[B@6e45688b|\n",
      "| [B@5a240c7|[B@6708ce95|\n",
      "|[B@29f676e1|[B@17e07c9d|\n",
      "|[B@2486c60b|[B@2aac3b3c|\n",
      "|[B@307701f6|[B@246787f1|\n",
      "|[B@3643bbe8|[B@7d7d13c7|\n",
      "|[B@750dd52f|[B@6dcd8c70|\n",
      "|[B@467af6da|[B@530c26f9|\n",
      "|[B@48b3251a|[B@499c8e70|\n",
      "|[B@58417dbf|[B@6a48b3a0|\n",
      "+-----------+-----------+\n",
      "only showing top 20 rows\n",
      "\n"
     ]
    }
   ],
   "source": [
    "hostname.anonymized.show()"
   ]
  },
  {
   "cell_type": "markdown",
   "metadata": {},
   "source": [
    "## IPv4 anonymization"
   ]
  },
  {
   "cell_type": "code",
   "execution_count": 6,
   "metadata": {},
   "outputs": [],
   "source": [
    "R = Row('content')\n",
    "\n",
    "ips = [R(faker.ipv4()) for i in range(100)]\n",
    "df = spark.createDataFrame(ips)"
   ]
  },
  {
   "cell_type": "code",
   "execution_count": 7,
   "metadata": {},
   "outputs": [
    {
     "name": "stdout",
     "output_type": "stream",
     "text": [
      "+--------------+\n",
      "|       content|\n",
      "+--------------+\n",
      "|  198.26.98.89|\n",
      "|   1.8.124.108|\n",
      "|192.66.135.222|\n",
      "|   203.0.112.3|\n",
      "|21.148.156.156|\n",
      "|    192.37.7.5|\n",
      "|192.31.197.224|\n",
      "|  192.52.92.20|\n",
      "| 115.15.83.241|\n",
      "|198.51.101.127|\n",
      "|  198.51.123.8|\n",
      "|  26.10.70.193|\n",
      "| 192.51.238.98|\n",
      "|192.52.198.157|\n",
      "|198.33.128.134|\n",
      "| 203.0.123.235|\n",
      "| 192.88.98.229|\n",
      "| 198.51.126.69|\n",
      "|169.204.225.98|\n",
      "| 203.0.126.229|\n",
      "+--------------+\n",
      "only showing top 20 rows\n",
      "\n"
     ]
    }
   ],
   "source": [
    "df.show()"
   ]
  },
  {
   "cell_type": "code",
   "execution_count": 8,
   "metadata": {},
   "outputs": [],
   "source": [
    "from oniony.hosts import Hosts\n",
    "import os\n",
    "\n",
    "aes_key = os.urandom(32)\n",
    "padding_key = os.urandom(32)\n",
    "\n",
    "hosts = Hosts(sc, df, 'foo', 'bar', aes_key, padding_key, 10)"
   ]
  },
  {
   "cell_type": "code",
   "execution_count": 9,
   "metadata": {},
   "outputs": [
    {
     "name": "stdout",
     "output_type": "stream",
     "text": [
      "+---------------+\n",
      "|        content|\n",
      "+---------------+\n",
      "|217.139.109.165|\n",
      "| 34.136.155.147|\n",
      "| 223.196.119.80|\n",
      "|  208.135.238.0|\n",
      "|  58.111.90.220|\n",
      "|  223.165.71.34|\n",
      "| 223.145.202.28|\n",
      "|  223.179.36.20|\n",
      "|  124.142.175.6|\n",
      "|  217.189.5.126|\n",
      "|  217.189.28.43|\n",
      "| 52.107.198.193|\n",
      "|223.181.254.100|\n",
      "|223.179.198.157|\n",
      "|  217.161.191.1|\n",
      "|208.135.228.106|\n",
      "|223.215.146.229|\n",
      "| 217.189.25.162|\n",
      "|  150.44.30.100|\n",
      "|208.135.225.101|\n",
      "+---------------+\n",
      "only showing top 20 rows\n",
      "\n"
     ]
    }
   ],
   "source": [
    "hosts.anonymized.show()"
   ]
  },
  {
   "cell_type": "code",
   "execution_count": null,
   "metadata": {},
   "outputs": [],
   "source": []
  }
 ],
 "metadata": {
  "kernelspec": {
   "display_name": "ipanon",
   "language": "python",
   "name": "ipanon"
  },
  "language_info": {
   "codemirror_mode": {
    "name": "ipython",
    "version": 3
   },
   "file_extension": ".py",
   "mimetype": "text/x-python",
   "name": "python",
   "nbconvert_exporter": "python",
   "pygments_lexer": "ipython3",
   "version": "3.7.3"
  },
  "pycharm": {
   "stem_cell": {
    "cell_type": "raw",
    "metadata": {
     "collapsed": false
    },
    "source": []
   }
  }
 },
 "nbformat": 4,
 "nbformat_minor": 2
}
